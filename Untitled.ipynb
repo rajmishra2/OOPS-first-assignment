{
 "cells": [
  {
   "cell_type": "code",
   "execution_count": 3,
   "id": "b2151430-deef-4237-93b5-ca37494785d9",
   "metadata": {},
   "outputs": [],
   "source": [
    "#class- class is data type that act a blueprint pf attribute and methods. \n",
    "#objects-objects are the instances of class with specificlly defined data\n",
    "#eg- class-car\n",
    "    #object- variety of cars,(innova, swift,tata motors etc)\n"
   ]
  },
  {
   "cell_type": "code",
   "execution_count": 2,
   "id": "1bfc93e9-558a-415e-a825-ab90dfcdb554",
   "metadata": {},
   "outputs": [],
   "source": [
    "#pillars of oops\n",
    "#Abstraction\n",
    "#inheritance\n",
    "#polymorphism\n",
    "#encapsulation"
   ]
  },
  {
   "cell_type": "code",
   "execution_count": 4,
   "id": "6a4d6c77-659b-426c-8de3-5d3b35182535",
   "metadata": {},
   "outputs": [],
   "source": [
    "#__init__function is use to intilization the data attribute.\n",
    "#eg - class=pwskills\n",
    "#def__init__(self.phone_number,email_id)\n"
   ]
  },
  {
   "cell_type": "code",
   "execution_count": 5,
   "id": "24f3da58-573e-4e15-925d-62f5337d13cd",
   "metadata": {},
   "outputs": [],
   "source": [
    "#slef represent the instance of class it it bind the attribute with the given arguments."
   ]
  },
  {
   "cell_type": "code",
   "execution_count": null,
   "id": "8fab7717-58c4-4f19-9d5b-c32393184657",
   "metadata": {},
   "outputs": [],
   "source": [
    "#inheritance= it means information pass from one class to another class. It similar to genetic inheritance where child class will inherit all the public and prtocted methods from the paren"
   ]
  }
 ],
 "metadata": {
  "kernelspec": {
   "display_name": "Python 3 (ipykernel)",
   "language": "python",
   "name": "python3"
  },
  "language_info": {
   "codemirror_mode": {
    "name": "ipython",
    "version": 3
   },
   "file_extension": ".py",
   "mimetype": "text/x-python",
   "name": "python",
   "nbconvert_exporter": "python",
   "pygments_lexer": "ipython3",
   "version": "3.10.8"
  }
 },
 "nbformat": 4,
 "nbformat_minor": 5
}
